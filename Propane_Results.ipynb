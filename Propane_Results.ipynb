{
 "cells": [
  {
   "cell_type": "markdown",
   "metadata": {},
   "source": [
    "## CUMC WHOLE ROOM CALORIMETER PROPANE RESULTS DOCUMENT"
   ]
  },
  {
   "cell_type": "code",
   "execution_count": 1,
   "metadata": {},
   "outputs": [],
   "source": [
    "# Enter in the calibration coefficients"
   ]
  },
  {
   "cell_type": "code",
   "execution_count": 2,
   "metadata": {},
   "outputs": [],
   "source": [
    "# Enter in the start time and end time:\n",
    "import numpy as np\n",
    "import pandas as pd"
   ]
  },
  {
   "cell_type": "code",
   "execution_count": 12,
   "metadata": {},
   "outputs": [],
   "source": [
    "# Enter in variables:\n",
    "Time = 375\n",
    "Pre_gram = 645.38\n",
    "Post_gram = 557.64\n"
   ]
  },
  {
   "cell_type": "code",
   "execution_count": 13,
   "metadata": {},
   "outputs": [
    {
     "name": "stdout",
     "output_type": "stream",
     "text": [
      "0.23397333333333337\n"
     ]
    }
   ],
   "source": [
    "Burn_rate = (Pre_gram - Post_gram)/Time\n",
    "print(Burn_rate)"
   ]
  },
  {
   "cell_type": "code",
   "execution_count": 14,
   "metadata": {},
   "outputs": [],
   "source": [
    "# Enter in propane data variables:\n",
    "\n",
    "VO2_p= (Burn_rate/44)*5*22.4\n",
    "VCO2_p= (Burn_rate/44)*3*22.4\n",
    "EE_p= Burn_rate*11.92\n",
    "RQ_p=0.600"
   ]
  },
  {
   "cell_type": "code",
   "execution_count": 15,
   "metadata": {},
   "outputs": [
    {
     "name": "stdout",
     "output_type": "stream",
     "text": [
      "0.5955684848484848\n",
      "0.35734109090909094\n",
      "2.788962133333334\n",
      "0.6\n"
     ]
    }
   ],
   "source": [
    "print(VO2_p)\n",
    "print(VCO2_p)\n",
    "print(EE_p)\n",
    "print(RQ_p)"
   ]
  },
  {
   "cell_type": "code",
   "execution_count": null,
   "metadata": {},
   "outputs": [],
   "source": [
    "# Load in Chamber data\n",
    "# I will have to ask Thomas how to load in a exp file\n"
   ]
  },
  {
   "cell_type": "code",
   "execution_count": 16,
   "metadata": {},
   "outputs": [],
   "source": [
    "# Create SS variables:\n",
    "\n",
    "VO2_ss=0.3952\n",
    "VCO2_ss= 0.2412\n",
    "EE_ss=1.824\n",
    "RQ_ss=0.5982"
   ]
  },
  {
   "cell_type": "code",
   "execution_count": 17,
   "metadata": {},
   "outputs": [],
   "source": [
    "Time_total = 330"
   ]
  },
  {
   "cell_type": "code",
   "execution_count": 19,
   "metadata": {},
   "outputs": [
    {
     "name": "stdout",
     "output_type": "stream",
     "text": [
      "196.53759999999997\n",
      "130.416\n",
      "33.64323162590771\n"
     ]
    }
   ],
   "source": [
    "# Calculate VO2 variables:\n",
    "\n",
    "print(VO2_p*Time_total)\n",
    "print(VO2_ss*Time_total)\n",
    "VO2_sub=VO2_p-VO2_ss\n",
    "print((VO2_sub/VO2_p)*100)\n"
   ]
  },
  {
   "cell_type": "code",
   "execution_count": 20,
   "metadata": {},
   "outputs": [
    {
     "name": "stdout",
     "output_type": "stream",
     "text": [
      "117.92256\n",
      "79.596\n",
      "32.50146536845877\n"
     ]
    }
   ],
   "source": [
    "# Calculate VCO2 variablesV\n",
    "print(VCO2_p*Time_total)\n",
    "print(VCO2_ss*Time_total)\n",
    "VCO2_sub=VCO2_p-VCO2_ss\n",
    "print((VCO2_sub/VCO2_p)*100)"
   ]
  },
  {
   "cell_type": "code",
   "execution_count": 21,
   "metadata": {},
   "outputs": [
    {
     "name": "stdout",
     "output_type": "stream",
     "text": [
      "920.3575040000002\n",
      "601.9200000000001\n",
      "34.59932717623608\n"
     ]
    }
   ],
   "source": [
    "#Calculate EE:\n",
    "\n",
    "print(EE_p*Time_total)\n",
    "print(EE_ss*Time_total)\n",
    "EE_sub=EE_p-EE_ss\n",
    "print((EE_sub/EE_p)*100)"
   ]
  },
  {
   "cell_type": "code",
   "execution_count": 28,
   "metadata": {},
   "outputs": [
    {
     "name": "stdout",
     "output_type": "stream",
     "text": [
      "0.0018000000000000238\n",
      "0.300000000000004\n"
     ]
    }
   ],
   "source": [
    "# Calculate RQ:\n",
    "\n",
    "print(RQ_p-RQ_ss)\n",
    "RQ_sub=RQ_p-RQ_ss\n",
    "\n",
    "print(RQ_sub/RQ_p *100)"
   ]
  },
  {
   "cell_type": "code",
   "execution_count": null,
   "metadata": {},
   "outputs": [],
   "source": []
  }
 ],
 "metadata": {
  "kernelspec": {
   "display_name": "Python 3",
   "language": "python",
   "name": "python3"
  },
  "language_info": {
   "codemirror_mode": {
    "name": "ipython",
    "version": 3
   },
   "file_extension": ".py",
   "mimetype": "text/x-python",
   "name": "python",
   "nbconvert_exporter": "python",
   "pygments_lexer": "ipython3",
   "version": "3.7.6"
  }
 },
 "nbformat": 4,
 "nbformat_minor": 4
}
